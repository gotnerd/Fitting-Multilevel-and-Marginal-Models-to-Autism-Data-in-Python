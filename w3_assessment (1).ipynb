{
 "cells": [
  {
   "cell_type": "markdown",
   "metadata": {
    "colab_type": "text",
    "id": "QQdjVZNGikFv"
   },
   "source": [
    "# Week 3 Assessment\n",
    "\n",
    "This Jupyter Notebook is auxillary to the following assessment in this week.  To complete this assessment, you will complete the 5 questions outlined in this document and use the output from the Python cells to answer them.\n",
    "\n",
    "Run the following cell to initialize your environment and begin the assessment."
   ]
  },
  {
   "cell_type": "code",
   "execution_count": 1,
   "metadata": {
    "colab": {},
    "colab_type": "code",
    "id": "pfrQgsCOikFw"
   },
   "outputs": [],
   "source": [
    "import numpy as np\n",
    "import statsmodels.api as sm\n",
    "import pandas as pd  \n",
    "\n",
    "url = \"nhanes_2015_2016.csv\"\n",
    "da = pd.read_csv(url)\n",
    "\n",
    "# Drop unused columns, drop rows with any missing values.\n",
    "vars = [\"BPXSY1\", \"RIDAGEYR\", \"RIAGENDR\", \"RIDRETH1\", \"DMDEDUC2\", \"BMXBMI\",\n",
    "        \"SMQ020\", \"SDMVSTRA\", \"SDMVPSU\"]\n",
    "da = da[vars].dropna()\n",
    "\n",
    "da[\"group\"] = 10*da.SDMVSTRA + da.SDMVPSU\n",
    "\n",
    "da[\"smq\"] = da.SMQ020.replace({2: 0, 7: np.nan, 9: np.nan})\n",
    "\n",
    "np.random.seed(123)"
   ]
  },
  {
   "cell_type": "markdown",
   "metadata": {
    "colab_type": "text",
    "id": "eSA_KJQvikF1"
   },
   "source": [
    "#### Question 1: What is clustered data? (You'll answer this question within the quiz that follows this notebook)\n",
    "\n",
    "#### Answer:\n",
    "Clustered data refers to observations that are naturally grouped together, meaning that measurements within the same cluster may be more similar to each other than to measurements in different clusters. This dependency can arise due to common characteristics shared by subjects within a cluster (e.g., individuals in the same household, students in the same school, or patients in the same hospital). Failing to account for clustering can lead to incorrect statistical inferences.\n",
    "\n",
    "\n",
    "#### Question 2: (You'll answer this question within the quiz that follows this notebook)\n",
    "\n",
    "Utilize the following output for this question:"
   ]
  },
  {
   "cell_type": "code",
   "execution_count": 2,
   "metadata": {
    "colab": {},
    "colab_type": "code",
    "id": "2oU4HEnPikF2"
   },
   "outputs": [
    {
     "name": "stdout",
     "output_type": "stream",
     "text": [
      "BPXSY1 The correlation between two observations in the same cluster is 0.030\n",
      "SDMVSTRA The correlation between two observations in the same cluster is 0.959\n",
      "RIDAGEYR The correlation between two observations in the same cluster is 0.035\n",
      "BMXBMI The correlation between two observations in the same cluster is 0.039\n",
      "smq The correlation between two observations in the same cluster is 0.026\n"
     ]
    }
   ],
   "source": [
    "for v in [\"BPXSY1\", \"SDMVSTRA\", \"RIDAGEYR\", \"BMXBMI\", \"smq\"]:\n",
    "    model = sm.GEE.from_formula(v + \" ~ 1\", groups=\"group\",\n",
    "           cov_struct=sm.cov_struct.Exchangeable(), data=da)\n",
    "    result = model.fit()\n",
    "    print(v, result.cov_struct.summary())"
   ]
  },
  {
   "cell_type": "markdown",
   "metadata": {
    "colab_type": "text",
    "id": "4zRZc-tOikF8"
   },
   "source": [
    "Which of the listed features has the highest correlation between two observations in the same cluster? \n",
    "\n",
    "Answer:\n",
    "\n",
    "From the output:\n",
    "\n",
    "Variable\tCorrelation within clusters\n",
    "BPXSY1\t0.030\n",
    "SDMVSTRA\t0.959\n",
    "RIDAGEYR\t0.035\n",
    "BMXBMI\t0.039\n",
    "smq\t0.026\n",
    "\n",
    "SDMVSTRA has the highest correlation (0.959) between two observations in the same cluster, indicating that it is a strongly clustered variable."
   ]
  },
  {
   "cell_type": "markdown",
   "metadata": {
    "colab_type": "text",
    "id": "or7LyZNWikF9"
   },
   "source": [
    "#### Question 3: (You'll answer this question within the quiz that follows this notebook)\n",
    "\n",
    "What is true about multiple linear regression and marginal linear models when dependence is present in data?\n",
    "\n",
    "Answer:\n",
    "When dependence is present in data, multiple linear regression assumes that observations are independent, which can lead to underestimated standard errors and incorrect statistical inferences. On the other hand, marginal linear models, such as Generalized Estimating Equations (GEE), account for within-cluster correlation, leading to more accurate and robust inference.\n",
    "\n",
    "\n",
    "#### Question 4: (You'll answer this question within the quiz that follows this notebook)\n",
    "\n",
    "Multilevel models are expressed in terms of _____.\n",
    "\n",
    "Answer:\n",
    "Multilevel models are expressed in terms of fixed effects (population-level effects) and random effects (group-specific deviations). These models explicitly model hierarchical data structures, where observations are nested within groups.\n",
    "\n",
    "\n",
    "#### Question 5: (You'll answer this question within the quiz that follows this notebook)\n",
    "\n",
    "Which of the following is NOT true regarding reasons why we fit marginal models?\n",
    "\n",
    "Answer:\n",
    "Marginal models (such as GEE) are typically used when the focus is on population-level effects rather than individual or cluster-specific effects.\n",
    "\n",
    "A statement that is not true regarding marginal models could be:\n",
    "“Marginal models provide cluster-specific predictions.”\n",
    "This is false because marginal models estimate population-averaged effects rather than subject-specific effects (which are estimated by multilevel models)."
   ]
  },
  {
   "cell_type": "code",
   "execution_count": null,
   "metadata": {},
   "outputs": [],
   "source": []
  }
 ],
 "metadata": {
  "colab": {
   "collapsed_sections": [],
   "name": "w3_assessment.ipynb",
   "provenance": [],
   "version": "0.3.2"
  },
  "kernelspec": {
   "display_name": "Python 3 (ipykernel)",
   "language": "python",
   "name": "python3"
  },
  "language_info": {
   "codemirror_mode": {
    "name": "ipython",
    "version": 3
   },
   "file_extension": ".py",
   "mimetype": "text/x-python",
   "name": "python",
   "nbconvert_exporter": "python",
   "pygments_lexer": "ipython3",
   "version": "3.11.4"
  }
 },
 "nbformat": 4,
 "nbformat_minor": 1
}
