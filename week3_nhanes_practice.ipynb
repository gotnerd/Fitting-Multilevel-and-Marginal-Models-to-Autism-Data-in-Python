{
 "cells": [
  {
   "cell_type": "markdown",
   "metadata": {},
   "source": [
    "# Practice notebook for regression analysis with dependent data in NHANES\n",
    "\n",
    "This notebook will give you the opportunity to perform some analyses using the regression methods for dependent data that we are covering in this week of the course.\n",
    "\n",
    "Enter the code in response to each question in the boxes labeled \"enter your code here\". Then enter your responses to the questions in the boxes labeled \"Type Markdown and Latex\".\n",
    "\n",
    "This notebook is based on the NHANES case study notebook for regression with dependent data.  Most of the code that you will need to write below is very similar to code that appears in the case study notebook.  You will need to edit code from that notebook in small ways to adapt it to the prompts below.\n",
    "\n",
    "To get started, we will use the same module imports and read the data in the same way as we did in the case study:"
   ]
  },
  {
   "cell_type": "code",
   "execution_count": 11,
   "metadata": {},
   "outputs": [],
   "source": [
    "import matplotlib.pyplot as plt\n",
    "import seaborn as sns\n",
    "import pandas as pd\n",
    "import statsmodels.api as sm\n",
    "import numpy as np\n",
    "\n",
    "# Load data\n",
    "url = \"nhanes_2015_2016.csv\"\n",
    "da = pd.read_csv(url)\n",
    "\n",
    "# Select relevant variables and drop missing values\n",
    "vars = [\"BPXSY1\", \"BPXDI1\", \"RIDAGEYR\", \"RIAGENDR\", \"RIDRETH1\", \"DMDEDUC2\", \"BMXBMI\",\n",
    "        \"SMQ020\", \"SDMVSTRA\", \"SDMVPSU\"]\n",
    "da = da[vars].dropna()\n",
    "\n",
    "# Create grouping variable\n",
    "da[\"group\"] = 10 * da.SDMVSTRA + da.SDMVPSU"
   ]
  },
  {
   "cell_type": "markdown",
   "metadata": {},
   "source": [
    "## Question 1: \n",
    "\n",
    "Build a marginal linear model for the first measurement of diastolic blood pressure (`BPXDI1`), using GEE to account for the grouping variable 'group' defined above.  This initial model should have no covariates, and will be used to assess the ICC of this blood pressure measure."
   ]
  },
  {
   "cell_type": "code",
   "execution_count": 12,
   "metadata": {},
   "outputs": [
    {
     "name": "stdout",
     "output_type": "stream",
     "text": [
      "                               GEE Regression Results                              \n",
      "===================================================================================\n",
      "Dep. Variable:                      BPXDI1   No. Observations:                 5102\n",
      "Model:                                 GEE   No. clusters:                       30\n",
      "Method:                        Generalized   Min. cluster size:                 106\n",
      "                      Estimating Equations   Max. cluster size:                 226\n",
      "Family:                           Gaussian   Mean cluster size:               170.1\n",
      "Dependence structure:         Exchangeable   Num. iterations:                     5\n",
      "Date:                     Tue, 18 Feb 2025   Scale:                         162.315\n",
      "Covariance type:                    robust   Time:                         00:52:18\n",
      "==============================================================================\n",
      "                 coef    std err          z      P>|z|      [0.025      0.975]\n",
      "------------------------------------------------------------------------------\n",
      "Intercept     70.0088      0.419    167.219      0.000      69.188      70.829\n",
      "==============================================================================\n",
      "Skew:                         -0.6467   Kurtosis:                       3.8275\n",
      "Centered skew:                -0.6299   Centered kurtosis:              3.8513\n",
      "==============================================================================\n"
     ]
    }
   ],
   "source": [
    "m0 = sm.GEE.from_formula(\"BPXDI1 ~ 1\", \"group\", cov_struct=sm.cov_struct.Exchangeable(), data=da)\n",
    "r0 = m0.fit()\n",
    "print(r0.summary())"
   ]
  },
  {
   "cell_type": "markdown",
   "metadata": {},
   "source": [
    "__Q1a.__ What is the ICC for diastolic blood pressure?  What can you\n",
    "  conclude by comparing it to the ICC for systolic blood pressure?"
   ]
  },
  {
   "cell_type": "code",
   "execution_count": 13,
   "metadata": {},
   "outputs": [
    {
     "name": "stdout",
     "output_type": "stream",
     "text": [
      "The correlation between two observations in the same cluster is 0.031\n",
      "The correlation between two observations in the same cluster is 0.030\n"
     ]
    }
   ],
   "source": [
    "m1 = sm.GEE.from_formula(\"BPXSY1 ~ 1\", \"group\", cov_struct=sm.cov_struct.Exchangeable(), data=da)\n",
    "r1 = m1.fit()\n",
    "\n",
    "print(r0.cov_struct.summary())  # ICC for BPXDI1\n",
    "print(r1.cov_struct.summary())  # ICC for BPXSY1"
   ]
  },
  {
   "cell_type": "markdown",
   "metadata": {},
   "source": [
    "The ICC for diastolic and systolic blood pressure are quite similar.  For both diastolic and systolic blood pressure, around 3% of the variance is between groups and 97% is within groups."
   ]
  },
  {
   "cell_type": "markdown",
   "metadata": {},
   "source": [
    "## Question 2: \n",
    "\n",
    "Take your model from question 1, and add sex, age, and BMI to it as covariates."
   ]
  },
  {
   "cell_type": "code",
   "execution_count": 14,
   "metadata": {},
   "outputs": [
    {
     "name": "stdout",
     "output_type": "stream",
     "text": [
      "                               GEE Regression Results                              \n",
      "===================================================================================\n",
      "Dep. Variable:                      BPXDI1   No. Observations:                 5102\n",
      "Model:                                 GEE   No. clusters:                       30\n",
      "Method:                        Generalized   Min. cluster size:                 106\n",
      "                      Estimating Equations   Max. cluster size:                 226\n",
      "Family:                           Gaussian   Mean cluster size:               170.1\n",
      "Dependence structure:         Exchangeable   Num. iterations:                     7\n",
      "Date:                     Tue, 18 Feb 2025   Scale:                         158.611\n",
      "Covariance type:                    robust   Time:                         00:52:41\n",
      "==============================================================================\n",
      "                 coef    std err          z      P>|z|      [0.025      0.975]\n",
      "------------------------------------------------------------------------------\n",
      "Intercept     70.7858      1.098     64.489      0.000      68.634      72.937\n",
      "RIAGENDR      -2.7422      0.402     -6.828      0.000      -3.529      -1.955\n",
      "RIDAGEYR      -0.0409      0.014     -2.845      0.004      -0.069      -0.013\n",
      "BMXBMI         0.1839      0.030      6.218      0.000       0.126       0.242\n",
      "==============================================================================\n",
      "Skew:                         -0.6865   Kurtosis:                       3.9310\n",
      "Centered skew:                -0.6664   Centered kurtosis:              3.9656\n",
      "==============================================================================\n"
     ]
    }
   ],
   "source": [
    "m2 = sm.GEE.from_formula(\"BPXDI1 ~ RIAGENDR + RIDAGEYR + BMXBMI\", \"group\", \n",
    "                         cov_struct=sm.cov_struct.Exchangeable(), data=da)\n",
    "r2 = m2.fit()\n",
    "print(r2.summary())"
   ]
  },
  {
   "cell_type": "markdown",
   "metadata": {},
   "source": [
    "__Q2a.__ What is the ICC for this model?  What can you conclude by comparing it to the ICC for the model that you fit in question 1?"
   ]
  },
  {
   "cell_type": "code",
   "execution_count": 15,
   "metadata": {},
   "outputs": [
    {
     "data": {
      "text/plain": [
       "'The correlation between two observations in the same cluster is 0.030'"
      ]
     },
     "execution_count": 15,
     "metadata": {},
     "output_type": "execute_result"
    }
   ],
   "source": [
    "r1.cov_struct.summary()"
   ]
  },
  {
   "cell_type": "markdown",
   "metadata": {},
   "source": [
    "The ICC is almost identical to what we saw with the unadjusted model above.  Evidently the covariates (sex, age, BMI) do not account for the ICC.  This will happen when the covariates are approximately equally distributed across all levels of 'group', and/or when the covariates do not explain any variation in the response variable (either diastolic or systolic blood pressure here)."
   ]
  },
  {
   "cell_type": "markdown",
   "metadata": {},
   "source": [
    "## Question 3: \n",
    "\n",
    "Split the data into separate datasets for females and for males and fit two separate marginal linear models for diastolic blood pressure, one only for females, and one only for males."
   ]
  },
  {
   "cell_type": "code",
   "execution_count": 16,
   "metadata": {},
   "outputs": [
    {
     "name": "stdout",
     "output_type": "stream",
     "text": [
      "Sex=Male\n",
      "                               GEE Regression Results                              \n",
      "===================================================================================\n",
      "Dep. Variable:                      BPXDI1   No. Observations:                 2462\n",
      "Model:                                 GEE   No. clusters:                       30\n",
      "Method:                        Generalized   Min. cluster size:                  38\n",
      "                      Estimating Equations   Max. cluster size:                 111\n",
      "Family:                           Gaussian   Mean cluster size:                82.1\n",
      "Dependence structure:         Exchangeable   Num. iterations:                     7\n",
      "Date:                     Tue, 18 Feb 2025   Scale:                         173.641\n",
      "Covariance type:                    robust   Time:                         00:53:58\n",
      "==============================================================================\n",
      "                 coef    std err          z      P>|z|      [0.025      0.975]\n",
      "------------------------------------------------------------------------------\n",
      "Intercept     66.8949      1.751     38.210      0.000      63.464      70.326\n",
      "RIDAGEYR      -0.0661      0.017     -3.947      0.000      -0.099      -0.033\n",
      "BMXBMI         0.2652      0.055      4.846      0.000       0.158       0.372\n",
      "==============================================================================\n",
      "Skew:                         -0.7533   Kurtosis:                       4.0786\n",
      "Centered skew:                -0.7013   Centered kurtosis:              4.0070\n",
      "==============================================================================\n",
      "Sex=Female\n",
      "                               GEE Regression Results                              \n",
      "===================================================================================\n",
      "Dep. Variable:                      BPXDI1   No. Observations:                 2640\n",
      "Model:                                 GEE   No. clusters:                       30\n",
      "Method:                        Generalized   Min. cluster size:                  59\n",
      "                      Estimating Equations   Max. cluster size:                 125\n",
      "Family:                           Gaussian   Mean cluster size:                88.0\n",
      "Dependence structure:         Exchangeable   Num. iterations:                     8\n",
      "Date:                     Tue, 18 Feb 2025   Scale:                         143.982\n",
      "Covariance type:                    robust   Time:                         00:53:58\n",
      "==============================================================================\n",
      "                 coef    std err          z      P>|z|      [0.025      0.975]\n",
      "------------------------------------------------------------------------------\n",
      "Intercept     65.7505      1.348     48.778      0.000      63.109      68.392\n",
      "RIDAGEYR      -0.0192      0.019     -0.998      0.318      -0.057       0.019\n",
      "BMXBMI         0.1324      0.030      4.374      0.000       0.073       0.192\n",
      "==============================================================================\n",
      "Skew:                         -0.6088   Kurtosis:                       3.6004\n",
      "Centered skew:                -0.5958   Centered kurtosis:              3.6229\n",
      "==============================================================================\n"
     ]
    }
   ],
   "source": [
    "for ky, dz in da.groupby(\"RIAGENDR\"):\n",
    "    m3 = sm.GEE.from_formula(\"BPXDI1 ~ RIDAGEYR + BMXBMI\", \"group\", \n",
    "                             cov_struct=sm.cov_struct.Exchangeable(), data=dz)\n",
    "    r3 = m3.fit()\n",
    "    print(f\"Sex={'Male' if ky == 1 else 'Female'}\")\n",
    "    print(r3.summary())"
   ]
  },
  {
   "cell_type": "markdown",
   "metadata": {},
   "source": [
    "__Q3a.__ What do you learn by comparing these two fitted models?"
   ]
  },
  {
   "cell_type": "markdown",
   "metadata": {},
   "source": [
    "BMI is a statistically significant predictor of diastolic blood pressure for both sexes.  The quantitative association between BMI and blood pressure is stronger for males than for females.  Age is not a statistically significant predictor of diastolic blood pressure for females, and is negatively associated with diastolic blood pressure for males."
   ]
  },
  {
   "cell_type": "markdown",
   "metadata": {},
   "source": [
    "## Question 4: \n",
    "\n",
    "Using the entire data set, fit a multilevel model for diastolic blood pressure, predicted by age, gender, BMI, and educational attainment.  Include a random intercept for groups."
   ]
  },
  {
   "cell_type": "code",
   "execution_count": 17,
   "metadata": {},
   "outputs": [
    {
     "name": "stdout",
     "output_type": "stream",
     "text": [
      "          Mixed Linear Model Regression Results\n",
      "=========================================================\n",
      "Model:            MixedLM Dependent Variable: BPXDI1     \n",
      "No. Observations: 5102    Method:             REML       \n",
      "No. Groups:       30      Scale:              154.1840   \n",
      "Min. group size:  106     Log-Likelihood:     -20122.6847\n",
      "Max. group size:  226     Converged:          Yes        \n",
      "Mean group size:  170.1                                  \n",
      "----------------------------------------------------------\n",
      "           Coef.   Std.Err.    z     P>|z|  [0.025  0.975]\n",
      "----------------------------------------------------------\n",
      "Intercept  70.023     1.225  57.180  0.000  67.623  72.423\n",
      "RIDAGEYR   -0.039     0.010  -3.884  0.000  -0.059  -0.019\n",
      "RIAGENDR   -2.759     0.350  -7.882  0.000  -3.445  -2.073\n",
      "BMXBMI      0.184     0.025   7.237  0.000   0.134   0.234\n",
      "DMDEDUC2    0.199     0.139   1.425  0.154  -0.075   0.472\n",
      "group Var   4.232     0.109                               \n",
      "=========================================================\n",
      "\n"
     ]
    }
   ],
   "source": [
    "m4 = sm.MixedLM.from_formula(\"BPXDI1 ~ RIDAGEYR + RIAGENDR + BMXBMI + DMDEDUC2\", \n",
    "                             groups=\"group\", data=da)\n",
    "r4 = m4.fit()\n",
    "print(r4.summary())"
   ]
  },
  {
   "cell_type": "markdown",
   "metadata": {},
   "source": [
    "__Q4a.__ How would you describe the strength of the clustering in this analysis?"
   ]
  },
  {
   "cell_type": "code",
   "execution_count": 18,
   "metadata": {},
   "outputs": [
    {
     "data": {
      "text/plain": [
       "0.024645775049710904"
      ]
     },
     "execution_count": 18,
     "metadata": {},
     "output_type": "execute_result"
    }
   ],
   "source": [
    "4/da[\"BPXDI1\"].var()"
   ]
  },
  {
   "cell_type": "markdown",
   "metadata": {},
   "source": [
    "The ICC from the mixed model is `4/da[\"BPXDI1\"].var()`, which is similar to the ICC found above using GEE.  According to the multilevel regression model, around 2.5% of the diastolic blood pressure variance is between-groups and 98.5% is within groups.  The ICC(~2.5%) indicates weak clustering at the group level."
   ]
  },
  {
   "cell_type": "markdown",
   "metadata": {},
   "source": [
    "__Q4b:__ Include a random intercept for age, and describe your findings."
   ]
  },
  {
   "cell_type": "markdown",
   "metadata": {},
   "source": [
    "The multilevel model fitting algorithm may not converge especially when including random slopes for variables with high mean and/or variance.  Therefore the age variable is centered and scaled below before incorporating a random slope into the model.  Also, we choose to model the random intercepts and slopes as independent random variables.\n",
    "\n",
    "This model indicates that there is a negligible random slope for age.  The convergence warning is expected when an estimated variance parameter is nearly equal to zero.  Thus, there is little evidence that different groups have different age slopes."
   ]
  },
  {
   "cell_type": "code",
   "execution_count": 19,
   "metadata": {},
   "outputs": [
    {
     "name": "stderr",
     "output_type": "stream",
     "text": [
      "/opt/conda/lib/python3.11/site-packages/statsmodels/regression/mixed_linear_model.py:2238: ConvergenceWarning: The MLE may be on the boundary of the parameter space.\n",
      "  warnings.warn(msg, ConvergenceWarning)\n"
     ]
    },
    {
     "name": "stdout",
     "output_type": "stream",
     "text": [
      "           Mixed Linear Model Regression Results\n",
      "===========================================================\n",
      "Model:              MixedLM Dependent Variable: BPXDI1     \n",
      "No. Observations:   5102    Method:             REML       \n",
      "No. Groups:         30      Scale:              153.7142   \n",
      "Min. group size:    106     Log-Likelihood:     -20119.5875\n",
      "Max. group size:    226     Converged:          Yes        \n",
      "Mean group size:    170.1                                  \n",
      "-----------------------------------------------------------\n",
      "                 Coef.  Std.Err.   z    P>|z| [0.025 0.975]\n",
      "-----------------------------------------------------------\n",
      "Intercept        69.873    1.204 58.041 0.000 67.513 72.232\n",
      "RIDAGEYR         -0.036    0.012 -3.066 0.002 -0.059 -0.013\n",
      "RIAGENDR         -2.746    0.350 -7.852 0.000 -3.431 -2.060\n",
      "BMXBMI            0.185    0.025  7.288 0.000  0.136  0.235\n",
      "DMDEDUC2          0.194    0.140  1.390 0.165 -0.080  0.468\n",
      "group Var         2.688    0.114                           \n",
      "RIDAGEYR_cen Var  0.001    0.000                           \n",
      "===========================================================\n",
      "\n"
     ]
    }
   ],
   "source": [
    "# Center Age Variable for Stability\n",
    "da[\"RIDAGEYR_cen\"] = (da[\"RIDAGEYR\"] - da[\"RIDAGEYR\"].mean()) / 10\n",
    "\n",
    "m5 = sm.MixedLM.from_formula(\"BPXDI1 ~ RIDAGEYR + RIAGENDR + BMXBMI + DMDEDUC2\", \n",
    "                             groups=\"group\", \n",
    "                             re_formula=\"1\", \n",
    "                             vc_formula={\"RIDAGEYR_cen\": \"0+RIDAGEYR\"}, \n",
    "                             data=da)\n",
    "r5 = m5.fit(method=\"lbfgs\")\n",
    "print(r5.summary())"
   ]
  },
  {
   "cell_type": "markdown",
   "metadata": {},
   "source": [
    "### Conclusion\n",
    "- The model struggles to converge, suggesting minimal variation in the age slopes across groups.\n",
    "- There is little evidence that the relationship between age & blood pressure varies significantly by group."
   ]
  }
 ],
 "metadata": {
  "kernelspec": {
   "display_name": "Python 3 (ipykernel)",
   "language": "python",
   "name": "python3"
  },
  "language_info": {
   "codemirror_mode": {
    "name": "ipython",
    "version": 3
   },
   "file_extension": ".py",
   "mimetype": "text/x-python",
   "name": "python",
   "nbconvert_exporter": "python",
   "pygments_lexer": "ipython3",
   "version": "3.11.4"
  }
 },
 "nbformat": 4,
 "nbformat_minor": 1
}
