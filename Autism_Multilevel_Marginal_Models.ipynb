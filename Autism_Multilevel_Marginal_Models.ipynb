{
 "cells": [
  {
   "cell_type": "markdown",
   "metadata": {
    "colab_type": "text",
    "id": "G1xb_caW0HTV"
   },
   "source": [
    "# Illustrating multilevel and marginal regression with data from a longitudinal autism study\n",
    "\n",
    "This analysis is based on data from a longitudinal study of children with autism<sup>1</sup>. We will consider how various factors interact with the socialization of a child with autism as they progress through the early stages of their life.\n",
    "\n",
    "The variables that we focus on here are:\n",
    "\n",
    "* AGE is the age of a child which, for this dataset, is between two and thirteen years \n",
    "* VSAE measures a child's socialization \n",
    "* SICDEGP is the expressive language group at age two and can take on values ranging from one to three. Higher values indicate more expressive language.\n",
    "* CHILDID is the unique ID that is given to each child and acts as their identifier within the dataset\n",
    "\n",
    "We will first be fitting a multilevel model with explicit random effects of the children to account for the fact that we have repeated measurements on each child, which introduces correlation in our observations.\n",
    "\n",
    "<sup>1</sup> Anderson, D., Oti, R., Lord, C., and Welch, K. (2009). Patterns of growth in adaptive social abilities among children with autism spectrum disorders. Journal of Abnormal Child Psychology, 37(7), 1019-1034."
   ]
  },
  {
   "cell_type": "markdown",
   "metadata": {
    "colab_type": "text",
    "id": "2gqG9qp6qrCH"
   },
   "source": [
    "### Importing packages and reading data\n",
    "\n",
    "Before we begin, we need to import a few packages:"
   ]
  },
  {
   "cell_type": "code",
   "execution_count": 1,
   "metadata": {
    "colab": {},
    "colab_type": "code",
    "id": "oj-uyutz0Gg6"
   },
   "outputs": [],
   "source": [
    "import numpy as np\n",
    "import pandas as pd\n",
    "import statsmodels.api as sm\n",
    "import seaborn as sns"
   ]
  },
  {
   "cell_type": "markdown",
   "metadata": {},
   "source": [
    "Next we read the data and drop cases with missing values."
   ]
  },
  {
   "cell_type": "code",
   "execution_count": 2,
   "metadata": {},
   "outputs": [],
   "source": [
    "# Read in the Autism Data\n",
    "dat = pd.read_csv(\"autism.csv\")\n",
    "\n",
    "# Drop NA's from the data\n",
    "dat = dat.dropna()"
   ]
  },
  {
   "cell_type": "markdown",
   "metadata": {},
   "source": [
    "The first few rows of data appear as follows:"
   ]
  },
  {
   "cell_type": "code",
   "execution_count": 3,
   "metadata": {
    "colab": {
     "base_uri": "https://localhost:8080/",
     "height": 198
    },
    "colab_type": "code",
    "id": "GV7lFhR21rK7",
    "outputId": "85451e55-a6ef-4d15-cc70-5bb7282c43c6"
   },
   "outputs": [
    {
     "data": {
      "text/html": [
       "<div>\n",
       "<style scoped>\n",
       "    .dataframe tbody tr th:only-of-type {\n",
       "        vertical-align: middle;\n",
       "    }\n",
       "\n",
       "    .dataframe tbody tr th {\n",
       "        vertical-align: top;\n",
       "    }\n",
       "\n",
       "    .dataframe thead th {\n",
       "        text-align: right;\n",
       "    }\n",
       "</style>\n",
       "<table border=\"1\" class=\"dataframe\">\n",
       "  <thead>\n",
       "    <tr style=\"text-align: right;\">\n",
       "      <th></th>\n",
       "      <th>age</th>\n",
       "      <th>vsae</th>\n",
       "      <th>sicdegp</th>\n",
       "      <th>childid</th>\n",
       "    </tr>\n",
       "  </thead>\n",
       "  <tbody>\n",
       "    <tr>\n",
       "      <th>0</th>\n",
       "      <td>2</td>\n",
       "      <td>6.0</td>\n",
       "      <td>3</td>\n",
       "      <td>1</td>\n",
       "    </tr>\n",
       "    <tr>\n",
       "      <th>1</th>\n",
       "      <td>3</td>\n",
       "      <td>7.0</td>\n",
       "      <td>3</td>\n",
       "      <td>1</td>\n",
       "    </tr>\n",
       "    <tr>\n",
       "      <th>2</th>\n",
       "      <td>5</td>\n",
       "      <td>18.0</td>\n",
       "      <td>3</td>\n",
       "      <td>1</td>\n",
       "    </tr>\n",
       "    <tr>\n",
       "      <th>3</th>\n",
       "      <td>9</td>\n",
       "      <td>25.0</td>\n",
       "      <td>3</td>\n",
       "      <td>1</td>\n",
       "    </tr>\n",
       "    <tr>\n",
       "      <th>4</th>\n",
       "      <td>13</td>\n",
       "      <td>27.0</td>\n",
       "      <td>3</td>\n",
       "      <td>1</td>\n",
       "    </tr>\n",
       "  </tbody>\n",
       "</table>\n",
       "</div>"
      ],
      "text/plain": [
       "   age  vsae  sicdegp  childid\n",
       "0    2   6.0        3        1\n",
       "1    3   7.0        3        1\n",
       "2    5  18.0        3        1\n",
       "3    9  25.0        3        1\n",
       "4   13  27.0        3        1"
      ]
     },
     "execution_count": 3,
     "metadata": {},
     "output_type": "execute_result"
    }
   ],
   "source": [
    "dat.head()"
   ]
  },
  {
   "cell_type": "markdown",
   "metadata": {},
   "source": [
    "The level of socialization (`vsae`) tends to increase with `age`.  We can see this through a scatterplot, but since `age` takes on only a few distinct values, we will also visualize the relationship using a series of boxplots."
   ]
  },
  {
   "cell_type": "code",
   "execution_count": 4,
   "metadata": {},
   "outputs": [
    {
     "data": {
      "text/plain": [
       "<Axes: xlabel='age', ylabel='vsae'>"
      ]
     },
     "execution_count": 4,
     "metadata": {},
     "output_type": "execute_result"
    },
    {
     "data": {
      "image/png": "[encoded data removed]",
      "text/plain": [
       "<Figure size 640x480 with 1 Axes>"
      ]
     },
     "metadata": {},
     "output_type": "display_data"
    }
   ],
   "source": [
    "sns.scatterplot(x=\"age\", y=\"vsae\", data=dat)"
   ]
  },
  {
   "cell_type": "code",
   "execution_count": 5,
   "metadata": {},
   "outputs": [
    {
     "data": {
      "text/plain": [
       "<Axes: xlabel='age', ylabel='vsae'>"
      ]
     },
     "execution_count": 5,
     "metadata": {},
     "output_type": "execute_result"
    },
    {
     "data": {
      "image/png": "[encoded data removed]",
      "text/plain": [
       "<Figure size 640x480 with 1 Axes>"
      ]
     },
     "metadata": {},
     "output_type": "display_data"
    }
   ],
   "source": [
    "sns.boxplot(x=\"age\", y=\"vsae\", data=dat)"
   ]
  },
  {
   "cell_type": "markdown",
   "metadata": {
    "colab_type": "text",
    "id": "5BYzwGjjwoyo"
   },
   "source": [
    "### Multilevel linear regression models\n",
    "\n",
    "We begin by fitting a basic multilevel linear model, with `vsae` as the response variable, and `age` and `sicdegp` as predictors.  Since `sicdegp` is a categorical variable that has been coded numerically, we use the `C()` syntax in the formula to force it to be treated as categorical.  This is a repeated measures longitudinal dataset, so we treat each child as a group.  In this basic model we include only a random intercept to capture the within-child dependence."
   ]
  },
  {
   "cell_type": "code",
   "execution_count": 6,
   "metadata": {
    "colab": {
     "base_uri": "https://localhost:8080/",
     "height": 594
    },
    "colab_type": "code",
    "id": "5qtbUROWw3ZO",
    "outputId": "16cc06d5-ae44-46f0-93c9-ac49c3a4cc91"
   },
   "outputs": [
    {
     "data": {
      "text/html": [
       "<table class=\"simpletable\">\n",
       "<tr>\n",
       "       <td>Model:</td>       <td>MixedLM</td> <td>Dependent Variable:</td>    <td>vsae</td>   \n",
       "</tr>\n",
       "<tr>\n",
       "  <td>No. Observations:</td>   <td>610</td>         <td>Method:</td>           <td>ML</td>    \n",
       "</tr>\n",
       "<tr>\n",
       "     <td>No. Groups:</td>      <td>158</td>         <td>Scale:</td>         <td>403.4235</td> \n",
       "</tr>\n",
       "<tr>\n",
       "  <td>Min. group size:</td>     <td>1</td>      <td>Log-Likelihood:</td>   <td>-2762.4838</td>\n",
       "</tr>\n",
       "<tr>\n",
       "  <td>Max. group size:</td>     <td>5</td>        <td>Converged:</td>          <td>Yes</td>   \n",
       "</tr>\n",
       "<tr>\n",
       "  <td>Mean group size:</td>    <td>3.9</td>            <td></td>                <td></td>     \n",
       "</tr>\n",
       "</table>\n",
       "<table class=\"simpletable\">\n",
       "<tr>\n",
       "         <td></td>          <th>Coef.</th>  <th>Std.Err.</th>    <th>z</th>   <th>P>|z|</th> <th>[0.025</th>  <th>0.975]</th>\n",
       "</tr>\n",
       "<tr>\n",
       "  <th>Intercept</th>       <td>-7.169</td>    <td>2.531</td>  <td>-2.832</td> <td>0.005</td> <td>-12.129</td> <td>-2.208</td>\n",
       "</tr>\n",
       "<tr>\n",
       "  <th>C(sicdegp)[T.2]</th>  <td>5.267</td>    <td>2.970</td>   <td>1.773</td> <td>0.076</td> <td>-0.554</td>  <td>11.088</td>\n",
       "</tr>\n",
       "<tr>\n",
       "  <th>C(sicdegp)[T.3]</th> <td>21.402</td>    <td>3.326</td>   <td>6.435</td> <td>0.000</td> <td>14.883</td>  <td>27.921</td>\n",
       "</tr>\n",
       "<tr>\n",
       "  <th>age</th>              <td>4.478</td>    <td>0.211</td>  <td>21.273</td> <td>0.000</td>  <td>4.066</td>   <td>4.891</td>\n",
       "</tr>\n",
       "<tr>\n",
       "  <th>childid Var</th>     <td>142.014</td>   <td>1.612</td>     <td></td>      <td></td>       <td></td>        <td></td>   \n",
       "</tr>\n",
       "</table><br/>\n"
      ],
      "text/latex": [
       "\\begin{table}\n",
       "\\caption{Mixed Linear Model Regression Results}\n",
       "\\label{}\n",
       "\\begin{center}\n",
       "\\begin{tabular}{llll}\n",
       "\\hline\n",
       "Model:            & MixedLM & Dependent Variable: & vsae        \\\\\n",
       "No. Observations: & 610     & Method:             & ML          \\\\\n",
       "No. Groups:       & 158     & Scale:              & 403.4235    \\\\\n",
       "Min. group size:  & 1       & Log-Likelihood:     & -2762.4838  \\\\\n",
       "Max. group size:  & 5       & Converged:          & Yes         \\\\\n",
       "Mean group size:  & 3.9     &                     &             \\\\\n",
       "\\hline\n",
       "\\end{tabular}\n",
       "\\end{center}\n",
       "\n",
       "\\begin{center}\n",
       "\\begin{tabular}{lrrrrrr}\n",
       "\\hline\n",
       "                &   Coef. & Std.Err. &      z & P$> |$z$|$ &  [0.025 & 0.975]  \\\\\n",
       "\\hline\n",
       "Intercept       &  -7.169 &    2.531 & -2.832 &       0.005 & -12.129 & -2.208  \\\\\n",
       "C(sicdegp)[T.2] &   5.267 &    2.970 &  1.773 &       0.076 &  -0.554 & 11.088  \\\\\n",
       "C(sicdegp)[T.3] &  21.402 &    3.326 &  6.435 &       0.000 &  14.883 & 27.921  \\\\\n",
       "age             &   4.478 &    0.211 & 21.273 &       0.000 &   4.066 &  4.891  \\\\\n",
       "childid Var     & 142.014 &    1.612 &        &             &         &         \\\\\n",
       "\\hline\n",
       "\\end{tabular}\n",
       "\\end{center}\n",
       "\\end{table}\n",
       "\\bigskip\n"
      ],
      "text/plain": [
       "<class 'statsmodels.iolib.summary2.Summary'>\n",
       "\"\"\"\n",
       "           Mixed Linear Model Regression Results\n",
       "============================================================\n",
       "Model:              MixedLM  Dependent Variable:  vsae      \n",
       "No. Observations:   610      Method:              ML        \n",
       "No. Groups:         158      Scale:               403.4235  \n",
       "Min. group size:    1        Log-Likelihood:      -2762.4838\n",
       "Max. group size:    5        Converged:           Yes       \n",
       "Mean group size:    3.9                                     \n",
       "------------------------------------------------------------\n",
       "                 Coef.  Std.Err.   z    P>|z|  [0.025 0.975]\n",
       "------------------------------------------------------------\n",
       "Intercept        -7.169    2.531 -2.832 0.005 -12.129 -2.208\n",
       "C(sicdegp)[T.2]   5.267    2.970  1.773 0.076  -0.554 11.088\n",
       "C(sicdegp)[T.3]  21.402    3.326  6.435 0.000  14.883 27.921\n",
       "age               4.478    0.211 21.273 0.000   4.066  4.891\n",
       "childid Var     142.014    1.612                            \n",
       "============================================================\n",
       "\n",
       "\"\"\""
      ]
     },
     "execution_count": 6,
     "metadata": {},
     "output_type": "execute_result"
    }
   ],
   "source": [
    "# Specify a model\n",
    "mlm_mod = sm.MixedLM.from_formula(\n",
    "    formula = 'vsae ~ age + C(sicdegp)', \n",
    "    groups = 'childid',  \n",
    "    data=dat\n",
    ")\n",
    "\n",
    "# Fit the model\n",
    "mlm_result = mlm_mod.fit(reml=False)\n",
    "\n",
    "# Print out the summary of the fit\n",
    "mlm_result.summary()"
   ]
  },
  {
   "cell_type": "markdown",
   "metadata": {
    "colab_type": "text",
    "id": "YA4jTssTzzRm"
   },
   "source": [
    "We begin by inspecting the mean structure of the model.  The coefficient for `age` is approximately 4.5, and is statistically different from zero.  Thus, for a fixed level of `sicdegp` (the only other explanatory variable), the expected value of `vsae` increases by approximately 4.5 units with each additional year of age.  Statsmodels has chosen `sicdegp=1` as the reference level, and included indicator variables for `sicdegp=2` and `sicdegp=3`.  The coefficient for `sicdegp=2` is not statistically different from zero, so there is no evidence that the mean value of `vsae` differs between `sicdegp=1` and `sicdegp=2`, when `age` is fixed.  However the estimate for `sicdegp=3` is strongly statistically different from zero, with a point estimate of approximately 21.4.  Thus, children with `sicdegp=3` have approximately 21.4 points greater `vsae` than children with `sicegp=1` or `sicdegp=2`, for a fixed age.   \n",
    "\n",
    "The point estimate of the variance for the child random intercepts is 146.7, which corresponds to a standard deviation of 12.1.  Thus, a randomly selected child will be consistently different from the average child across all time points, with a stable difference $\\gamma_i$ (for child $i$), that has standard deviation 12.1.  Note that the $\\gamma_i$ have mean zero, so some children are consistently greater than the mean child, and other children are consistently less than the mean child."
   ]
  },
  {
   "cell_type": "markdown",
   "metadata": {},
   "source": [
    "The \"random intercepts\" model above takes the differences between children to be stable over time.  That is, each child is shifted from the mean child by a random intercept ($\\gamma_i$) that shifts `vsae` at all ages equally.  Another possibility is that children also differ by the rate of change, or slope of `vsae` with respect to `age`.  To capture this possibility, we include a random slope for age.  When modeling random slopes for quantitative variables in a multilevel model, it is common to center the covariate as we have done below."
   ]
  },
  {
   "cell_type": "code",
   "execution_count": 7,
   "metadata": {},
   "outputs": [
    {
     "data": {
      "text/html": [
       "<table class=\"simpletable\">\n",
       "<tr>\n",
       "       <td>Model:</td>       <td>MixedLM</td> <td>Dependent Variable:</td>    <td>vsae</td>   \n",
       "</tr>\n",
       "<tr>\n",
       "  <td>No. Observations:</td>   <td>610</td>         <td>Method:</td>           <td>ML</td>    \n",
       "</tr>\n",
       "<tr>\n",
       "     <td>No. Groups:</td>      <td>158</td>         <td>Scale:</td>          <td>72.5747</td> \n",
       "</tr>\n",
       "<tr>\n",
       "  <td>Min. group size:</td>     <td>1</td>      <td>Log-Likelihood:</td>   <td>-2550.9869</td>\n",
       "</tr>\n",
       "<tr>\n",
       "  <td>Max. group size:</td>     <td>5</td>        <td>Converged:</td>          <td>Yes</td>   \n",
       "</tr>\n",
       "<tr>\n",
       "  <td>Mean group size:</td>    <td>3.9</td>            <td></td>                <td></td>     \n",
       "</tr>\n",
       "</table>\n",
       "<table class=\"simpletable\">\n",
       "<tr>\n",
       "         <td></td>          <th>Coef.</th>  <th>Std.Err.</th>    <th>z</th>   <th>P>|z|</th> <th>[0.025</th>  <th>0.975]</th>\n",
       "</tr>\n",
       "<tr>\n",
       "  <th>Intercept</th>       <td>-6.586</td>    <td>2.914</td>  <td>-2.260</td> <td>0.024</td> <td>-12.297</td> <td>-0.875</td>\n",
       "</tr>\n",
       "<tr>\n",
       "  <th>C(sicdegp)[T.2]</th>  <td>4.129</td>    <td>2.845</td>   <td>1.452</td> <td>0.147</td> <td>-1.446</td>   <td>9.705</td>\n",
       "</tr>\n",
       "<tr>\n",
       "  <th>C(sicdegp)[T.3]</th> <td>20.828</td>    <td>3.178</td>   <td>6.553</td> <td>0.000</td> <td>14.598</td>  <td>27.057</td>\n",
       "</tr>\n",
       "<tr>\n",
       "  <th>age</th>              <td>4.471</td>    <td>0.358</td>  <td>12.493</td> <td>0.000</td>  <td>3.770</td>   <td>5.173</td>\n",
       "</tr>\n",
       "<tr>\n",
       "  <th>childid Var</th>     <td>196.873</td>   <td>3.612</td>     <td></td>      <td></td>       <td></td>        <td></td>   \n",
       "</tr>\n",
       "<tr>\n",
       "  <th>age_cen Var</th>     <td>17.255</td>    <td>0.309</td>     <td></td>      <td></td>       <td></td>        <td></td>   \n",
       "</tr>\n",
       "</table><br/>\n"
      ],
      "text/latex": [
       "\\begin{table}\n",
       "\\caption{Mixed Linear Model Regression Results}\n",
       "\\label{}\n",
       "\\begin{center}\n",
       "\\begin{tabular}{llll}\n",
       "\\hline\n",
       "Model:            & MixedLM & Dependent Variable: & vsae        \\\\\n",
       "No. Observations: & 610     & Method:             & ML          \\\\\n",
       "No. Groups:       & 158     & Scale:              & 72.5747     \\\\\n",
       "Min. group size:  & 1       & Log-Likelihood:     & -2550.9869  \\\\\n",
       "Max. group size:  & 5       & Converged:          & Yes         \\\\\n",
       "Mean group size:  & 3.9     &                     &             \\\\\n",
       "\\hline\n",
       "\\end{tabular}\n",
       "\\end{center}\n",
       "\n",
       "\\begin{center}\n",
       "\\begin{tabular}{lrrrrrr}\n",
       "\\hline\n",
       "                &   Coef. & Std.Err. &      z & P$> |$z$|$ &  [0.025 & 0.975]  \\\\\n",
       "\\hline\n",
       "Intercept       &  -6.586 &    2.914 & -2.260 &       0.024 & -12.297 & -0.875  \\\\\n",
       "C(sicdegp)[T.2] &   4.129 &    2.845 &  1.452 &       0.147 &  -1.446 &  9.705  \\\\\n",
       "C(sicdegp)[T.3] &  20.828 &    3.178 &  6.553 &       0.000 &  14.598 & 27.057  \\\\\n",
       "age             &   4.471 &    0.358 & 12.493 &       0.000 &   3.770 &  5.173  \\\\\n",
       "childid Var     & 196.873 &    3.612 &        &             &         &         \\\\\n",
       "age\\_cen Var    &  17.255 &    0.309 &        &             &         &         \\\\\n",
       "\\hline\n",
       "\\end{tabular}\n",
       "\\end{center}\n",
       "\\end{table}\n",
       "\\bigskip\n"
      ],
      "text/plain": [
       "<class 'statsmodels.iolib.summary2.Summary'>\n",
       "\"\"\"\n",
       "           Mixed Linear Model Regression Results\n",
       "============================================================\n",
       "Model:              MixedLM  Dependent Variable:  vsae      \n",
       "No. Observations:   610      Method:              ML        \n",
       "No. Groups:         158      Scale:               72.5747   \n",
       "Min. group size:    1        Log-Likelihood:      -2550.9869\n",
       "Max. group size:    5        Converged:           Yes       \n",
       "Mean group size:    3.9                                     \n",
       "------------------------------------------------------------\n",
       "                 Coef.  Std.Err.   z    P>|z|  [0.025 0.975]\n",
       "------------------------------------------------------------\n",
       "Intercept        -6.586    2.914 -2.260 0.024 -12.297 -0.875\n",
       "C(sicdegp)[T.2]   4.129    2.845  1.452 0.147  -1.446  9.705\n",
       "C(sicdegp)[T.3]  20.828    3.178  6.553 0.000  14.598 27.057\n",
       "age               4.471    0.358 12.493 0.000   3.770  5.173\n",
       "childid Var     196.873    3.612                            \n",
       "age_cen Var      17.255    0.309                            \n",
       "============================================================\n",
       "\n",
       "\"\"\""
      ]
     },
     "execution_count": 7,
     "metadata": {},
     "output_type": "execute_result"
    }
   ],
   "source": [
    "dat[\"age_cen\"] = dat[\"age\"] - dat[\"age\"].mean()\n",
    "\n",
    "# Specify a model\n",
    "mlm_mod2 = sm.MixedLM.from_formula(\n",
    "    formula = 'vsae ~ age + C(sicdegp)', \n",
    "    groups = 'childid', \n",
    "    re_formula=\"1\",\n",
    "    vc_formula={\"age_cen\": \"0+age_cen\"},\n",
    "    data=dat\n",
    ")\n",
    "\n",
    "# Fit the model\n",
    "mlm_result2 = mlm_mod2.fit(reml=False)\n",
    "\n",
    "# Print out the summary of the fit\n",
    "mlm_result2.summary()"
   ]
  },
  {
   "cell_type": "markdown",
   "metadata": {},
   "source": [
    "The mean structure of the model above can be interpreted similarly to the mean structure of the random intercepts model.  The variance structure now describes the unique child effect in terms of both a random intercept and a random age slope.\n",
    "\n",
    "We may wonder which of these two models better fits the data.  This can be assessed by comparing the models in terms of AIC (the Akaike Information Criterion).  A lower AIC corresponds to a better fit.  The model with random slopes has a substantially better fit to the data, based on the AIC."
   ]
  },
  {
   "cell_type": "code",
   "execution_count": 8,
   "metadata": {},
   "outputs": [
    {
     "name": "stdout",
     "output_type": "stream",
     "text": [
      "5536.967551282193\n",
      "5115.973739664486\n"
     ]
    }
   ],
   "source": [
    "print(mlm_result.aic)\n",
    "print(mlm_result2.aic)"
   ]
  },
  {
   "cell_type": "markdown",
   "metadata": {
    "colab_type": "text",
    "id": "GGfAT2T5wJMt"
   },
   "source": [
    "# Marginal Models\n",
    "\n",
    "Another powerful approach for analyzing repeated measures data (e.g. longitudinal data as we have here) is marginal regression, which is usually accomplished using a technique known as *generalized estimating equations* (GEE).\n",
    "\n",
    "The focus of GEE is on the mean structure, but we fit this mean structure in a way that acknowledges the non-independence of the data (i.e. that the repeated observations on one child will be dependent).  In an analysis using GEE, we specify a *working correlation structure*.  This represents an attempt to specify how the observations within a group are correlated, but notably does not need to be correct.  If we mis-specify the working correlation structure, the results of the analysis are still valid.  Below we fit a GEE to the autism data using two working correlation structure, one which specifies the observations on the same child to be independent, and the other specifying that any two observations on the same child have the same correlation between them (known as the \"exchangeable\" correlation)."
   ]
  },
  {
   "cell_type": "code",
   "execution_count": 9,
   "metadata": {
    "colab": {},
    "colab_type": "code",
    "id": "tErmtB7by7Hc"
   },
   "outputs": [
    {
     "data": {
      "text/html": [
       "<table class=\"simpletable\">\n",
       "<caption>GEE Regression Results</caption>\n",
       "<tr>\n",
       "  <th>Dep. Variable:</th>                <td>vsae</td>         <th>  No. Observations:  </th>    <td>610</td>  \n",
       "</tr>\n",
       "<tr>\n",
       "  <th>Model:</th>                         <td>GEE</td>         <th>  No. clusters:      </th>    <td>158</td>  \n",
       "</tr>\n",
       "<tr>\n",
       "  <th>Method:</th>                    <td>Generalized</td>     <th>  Min. cluster size: </th>     <td>1</td>   \n",
       "</tr>\n",
       "<tr>\n",
       "  <th></th>                      <td>Estimating Equations</td> <th>  Max. cluster size: </th>     <td>5</td>   \n",
       "</tr>\n",
       "<tr>\n",
       "  <th>Family:</th>                     <td>Gaussian</td>       <th>  Mean cluster size: </th>    <td>3.9</td>  \n",
       "</tr>\n",
       "<tr>\n",
       "  <th>Dependence structure:</th>     <td>Independence</td>     <th>  Num. iterations:   </th>     <td>2</td>   \n",
       "</tr>\n",
       "<tr>\n",
       "  <th>Date:</th>                   <td>Tue, 18 Feb 2025</td>   <th>  Scale:             </th>  <td>549.020</td>\n",
       "</tr>\n",
       "<tr>\n",
       "  <th>Covariance type: </th>            <td>robust</td>        <th>  Time:              </th> <td>00:44:34</td>\n",
       "</tr>\n",
       "</table>\n",
       "<table class=\"simpletable\">\n",
       "<tr>\n",
       "         <td></td>            <th>coef</th>     <th>std err</th>      <th>z</th>      <th>P>|z|</th>  <th>[0.025</th>    <th>0.975]</th>  \n",
       "</tr>\n",
       "<tr>\n",
       "  <th>Intercept</th>       <td>   -7.9191</td> <td>    2.257</td> <td>   -3.509</td> <td> 0.000</td> <td>  -12.343</td> <td>   -3.496</td>\n",
       "</tr>\n",
       "<tr>\n",
       "  <th>C(sicdegp)[T.2]</th> <td>    5.8745</td> <td>    2.763</td> <td>    2.126</td> <td> 0.033</td> <td>    0.459</td> <td>   11.290</td>\n",
       "</tr>\n",
       "<tr>\n",
       "  <th>C(sicdegp)[T.3]</th> <td>   22.1992</td> <td>    3.326</td> <td>    6.675</td> <td> 0.000</td> <td>   15.681</td> <td>   28.717</td>\n",
       "</tr>\n",
       "<tr>\n",
       "  <th>age</th>             <td>    4.4829</td> <td>    0.402</td> <td>   11.145</td> <td> 0.000</td> <td>    3.695</td> <td>    5.271</td>\n",
       "</tr>\n",
       "</table>\n",
       "<table class=\"simpletable\">\n",
       "<tr>\n",
       "  <th>Skew:</th>          <td>      1.9781</td> <th>  Kurtosis:          </th> <td>      7.7095</td>\n",
       "</tr>\n",
       "<tr>\n",
       "  <th>Centered skew:</th> <td>      0.8043</td> <th>  Centered kurtosis: </th> <td>      3.7977</td>\n",
       "</tr>\n",
       "</table>"
      ],
      "text/latex": [
       "\\begin{center}\n",
       "\\begin{tabular}{lclc}\n",
       "\\toprule\n",
       "\\textbf{Dep. Variable:}        &         vsae         & \\textbf{  No. Observations:  } &     610       \\\\\n",
       "\\textbf{Model:}                &         GEE          & \\textbf{  No. clusters:      } &     158       \\\\\n",
       "\\textbf{Method:}               &     Generalized      & \\textbf{  Min. cluster size: } &      1        \\\\\n",
       "\\textbf{}                      & Estimating Equations & \\textbf{  Max. cluster size: } &      5        \\\\\n",
       "\\textbf{Family:}               &       Gaussian       & \\textbf{  Mean cluster size: } &     3.9       \\\\\n",
       "\\textbf{Dependence structure:} &     Independence     & \\textbf{  Num. iterations:   } &      2        \\\\\n",
       "\\textbf{Date:}                 &   Tue, 18 Feb 2025   & \\textbf{  Scale:             } &   549.020     \\\\\n",
       "\\textbf{Covariance type: }     &        robust        & \\textbf{  Time:              } &   00:44:34    \\\\\n",
       "\\bottomrule\n",
       "\\end{tabular}\n",
       "\\begin{tabular}{lcccccc}\n",
       "                         & \\textbf{coef} & \\textbf{std err} & \\textbf{z} & \\textbf{P$> |$z$|$} & \\textbf{[0.025} & \\textbf{0.975]}  \\\\\n",
       "\\midrule\n",
       "\\textbf{Intercept}       &      -7.9191  &        2.257     &    -3.509  &         0.000        &      -12.343    &       -3.496     \\\\\n",
       "\\textbf{C(sicdegp)[T.2]} &       5.8745  &        2.763     &     2.126  &         0.033        &        0.459    &       11.290     \\\\\n",
       "\\textbf{C(sicdegp)[T.3]} &      22.1992  &        3.326     &     6.675  &         0.000        &       15.681    &       28.717     \\\\\n",
       "\\textbf{age}             &       4.4829  &        0.402     &    11.145  &         0.000        &        3.695    &        5.271     \\\\\n",
       "\\bottomrule\n",
       "\\end{tabular}\n",
       "\\begin{tabular}{lclc}\n",
       "\\textbf{Skew:}          &       1.9781 & \\textbf{  Kurtosis:          } &       7.7095  \\\\\n",
       "\\textbf{Centered skew:} &       0.8043 & \\textbf{  Centered kurtosis: } &       3.7977  \\\\\n",
       "\\bottomrule\n",
       "\\end{tabular}\n",
       "%\\caption{GEE Regression Results}\n",
       "\\end{center}"
      ],
      "text/plain": [
       "<class 'statsmodels.iolib.summary.Summary'>\n",
       "\"\"\"\n",
       "                               GEE Regression Results                              \n",
       "===================================================================================\n",
       "Dep. Variable:                        vsae   No. Observations:                  610\n",
       "Model:                                 GEE   No. clusters:                      158\n",
       "Method:                        Generalized   Min. cluster size:                   1\n",
       "                      Estimating Equations   Max. cluster size:                   5\n",
       "Family:                           Gaussian   Mean cluster size:                 3.9\n",
       "Dependence structure:         Independence   Num. iterations:                     2\n",
       "Date:                     Tue, 18 Feb 2025   Scale:                         549.020\n",
       "Covariance type:                    robust   Time:                         00:44:34\n",
       "===================================================================================\n",
       "                      coef    std err          z      P>|z|      [0.025      0.975]\n",
       "-----------------------------------------------------------------------------------\n",
       "Intercept          -7.9191      2.257     -3.509      0.000     -12.343      -3.496\n",
       "C(sicdegp)[T.2]     5.8745      2.763      2.126      0.033       0.459      11.290\n",
       "C(sicdegp)[T.3]    22.1992      3.326      6.675      0.000      15.681      28.717\n",
       "age                 4.4829      0.402     11.145      0.000       3.695       5.271\n",
       "==============================================================================\n",
       "Skew:                          1.9781   Kurtosis:                       7.7095\n",
       "Centered skew:                 0.8043   Centered kurtosis:              3.7977\n",
       "==============================================================================\n",
       "\"\"\""
      ]
     },
     "execution_count": 9,
     "metadata": {},
     "output_type": "execute_result"
    }
   ],
   "source": [
    "model_indep = sm.GEE.from_formula(\n",
    "    \"vsae ~ age + C(sicdegp)\",\n",
    "    groups=\"childid\",\n",
    "    cov_struct = sm.cov_struct.Independence(), \n",
    "    data=dat\n",
    "    ).fit()\n",
    "model_indep.summary()"
   ]
  },
  {
   "cell_type": "code",
   "execution_count": 10,
   "metadata": {
    "colab_type": "text",
    "id": "zU6EkONlIsR9"
   },
   "outputs": [
    {
     "data": {
      "text/html": [
       "<table class=\"simpletable\">\n",
       "<caption>GEE Regression Results</caption>\n",
       "<tr>\n",
       "  <th>Dep. Variable:</th>                <td>vsae</td>         <th>  No. Observations:  </th>    <td>610</td>  \n",
       "</tr>\n",
       "<tr>\n",
       "  <th>Model:</th>                         <td>GEE</td>         <th>  No. clusters:      </th>    <td>158</td>  \n",
       "</tr>\n",
       "<tr>\n",
       "  <th>Method:</th>                    <td>Generalized</td>     <th>  Min. cluster size: </th>     <td>1</td>   \n",
       "</tr>\n",
       "<tr>\n",
       "  <th></th>                      <td>Estimating Equations</td> <th>  Max. cluster size: </th>     <td>5</td>   \n",
       "</tr>\n",
       "<tr>\n",
       "  <th>Family:</th>                     <td>Gaussian</td>       <th>  Mean cluster size: </th>    <td>3.9</td>  \n",
       "</tr>\n",
       "<tr>\n",
       "  <th>Dependence structure:</th>     <td>Exchangeable</td>     <th>  Num. iterations:   </th>     <td>6</td>   \n",
       "</tr>\n",
       "<tr>\n",
       "  <th>Date:</th>                   <td>Tue, 18 Feb 2025</td>   <th>  Scale:             </th>  <td>549.192</td>\n",
       "</tr>\n",
       "<tr>\n",
       "  <th>Covariance type: </th>            <td>robust</td>        <th>  Time:              </th> <td>00:44:34</td>\n",
       "</tr>\n",
       "</table>\n",
       "<table class=\"simpletable\">\n",
       "<tr>\n",
       "         <td></td>            <th>coef</th>     <th>std err</th>      <th>z</th>      <th>P>|z|</th>  <th>[0.025</th>    <th>0.975]</th>  \n",
       "</tr>\n",
       "<tr>\n",
       "  <th>Intercept</th>       <td>   -7.1684</td> <td>    2.228</td> <td>   -3.218</td> <td> 0.001</td> <td>  -11.535</td> <td>   -2.802</td>\n",
       "</tr>\n",
       "<tr>\n",
       "  <th>C(sicdegp)[T.2]</th> <td>    5.2669</td> <td>    2.761</td> <td>    1.907</td> <td> 0.056</td> <td>   -0.145</td> <td>   10.679</td>\n",
       "</tr>\n",
       "<tr>\n",
       "  <th>C(sicdegp)[T.3]</th> <td>   21.4021</td> <td>    3.342</td> <td>    6.404</td> <td> 0.000</td> <td>   14.852</td> <td>   27.952</td>\n",
       "</tr>\n",
       "<tr>\n",
       "  <th>age</th>             <td>    4.4783</td> <td>    0.393</td> <td>   11.382</td> <td> 0.000</td> <td>    3.707</td> <td>    5.249</td>\n",
       "</tr>\n",
       "</table>\n",
       "<table class=\"simpletable\">\n",
       "<tr>\n",
       "  <th>Skew:</th>          <td>      1.9891</td> <th>  Kurtosis:          </th> <td>      7.7682</td>\n",
       "</tr>\n",
       "<tr>\n",
       "  <th>Centered skew:</th> <td>      0.8060</td> <th>  Centered kurtosis: </th> <td>      3.8066</td>\n",
       "</tr>\n",
       "</table>"
      ],
      "text/latex": [
       "\\begin{center}\n",
       "\\begin{tabular}{lclc}\n",
       "\\toprule\n",
       "\\textbf{Dep. Variable:}        &         vsae         & \\textbf{  No. Observations:  } &     610       \\\\\n",
       "\\textbf{Model:}                &         GEE          & \\textbf{  No. clusters:      } &     158       \\\\\n",
       "\\textbf{Method:}               &     Generalized      & \\textbf{  Min. cluster size: } &      1        \\\\\n",
       "\\textbf{}                      & Estimating Equations & \\textbf{  Max. cluster size: } &      5        \\\\\n",
       "\\textbf{Family:}               &       Gaussian       & \\textbf{  Mean cluster size: } &     3.9       \\\\\n",
       "\\textbf{Dependence structure:} &     Exchangeable     & \\textbf{  Num. iterations:   } &      6        \\\\\n",
       "\\textbf{Date:}                 &   Tue, 18 Feb 2025   & \\textbf{  Scale:             } &   549.192     \\\\\n",
       "\\textbf{Covariance type: }     &        robust        & \\textbf{  Time:              } &   00:44:34    \\\\\n",
       "\\bottomrule\n",
       "\\end{tabular}\n",
       "\\begin{tabular}{lcccccc}\n",
       "                         & \\textbf{coef} & \\textbf{std err} & \\textbf{z} & \\textbf{P$> |$z$|$} & \\textbf{[0.025} & \\textbf{0.975]}  \\\\\n",
       "\\midrule\n",
       "\\textbf{Intercept}       &      -7.1684  &        2.228     &    -3.218  &         0.001        &      -11.535    &       -2.802     \\\\\n",
       "\\textbf{C(sicdegp)[T.2]} &       5.2669  &        2.761     &     1.907  &         0.056        &       -0.145    &       10.679     \\\\\n",
       "\\textbf{C(sicdegp)[T.3]} &      21.4021  &        3.342     &     6.404  &         0.000        &       14.852    &       27.952     \\\\\n",
       "\\textbf{age}             &       4.4783  &        0.393     &    11.382  &         0.000        &        3.707    &        5.249     \\\\\n",
       "\\bottomrule\n",
       "\\end{tabular}\n",
       "\\begin{tabular}{lclc}\n",
       "\\textbf{Skew:}          &       1.9891 & \\textbf{  Kurtosis:          } &       7.7682  \\\\\n",
       "\\textbf{Centered skew:} &       0.8060 & \\textbf{  Centered kurtosis: } &       3.8066  \\\\\n",
       "\\bottomrule\n",
       "\\end{tabular}\n",
       "%\\caption{GEE Regression Results}\n",
       "\\end{center}"
      ],
      "text/plain": [
       "<class 'statsmodels.iolib.summary.Summary'>\n",
       "\"\"\"\n",
       "                               GEE Regression Results                              \n",
       "===================================================================================\n",
       "Dep. Variable:                        vsae   No. Observations:                  610\n",
       "Model:                                 GEE   No. clusters:                      158\n",
       "Method:                        Generalized   Min. cluster size:                   1\n",
       "                      Estimating Equations   Max. cluster size:                   5\n",
       "Family:                           Gaussian   Mean cluster size:                 3.9\n",
       "Dependence structure:         Exchangeable   Num. iterations:                     6\n",
       "Date:                     Tue, 18 Feb 2025   Scale:                         549.192\n",
       "Covariance type:                    robust   Time:                         00:44:34\n",
       "===================================================================================\n",
       "                      coef    std err          z      P>|z|      [0.025      0.975]\n",
       "-----------------------------------------------------------------------------------\n",
       "Intercept          -7.1684      2.228     -3.218      0.001     -11.535      -2.802\n",
       "C(sicdegp)[T.2]     5.2669      2.761      1.907      0.056      -0.145      10.679\n",
       "C(sicdegp)[T.3]    21.4021      3.342      6.404      0.000      14.852      27.952\n",
       "age                 4.4783      0.393     11.382      0.000       3.707       5.249\n",
       "==============================================================================\n",
       "Skew:                          1.9891   Kurtosis:                       7.7682\n",
       "Centered skew:                 0.8060   Centered kurtosis:              3.8066\n",
       "==============================================================================\n",
       "\"\"\""
      ]
     },
     "execution_count": 10,
     "metadata": {},
     "output_type": "execute_result"
    }
   ],
   "source": [
    "model_exch = sm.GEE.from_formula(\n",
    "    formula = \"vsae ~ age + C(sicdegp)\",\n",
    "    groups=\"childid\",\n",
    "    cov_struct=sm.cov_struct.Exchangeable(), \n",
    "    data=dat\n",
    "    ).fit()\n",
    "model_exch.summary()"
   ]
  },
  {
   "cell_type": "markdown",
   "metadata": {
    "colab_type": "text",
    "id": "BvG2ikP_IySr"
   },
   "source": []
  }
 ],
 "metadata": {
  "colab": {
   "collapsed_sections": [],
   "name": "Autism_Multilevel_Marginal_Models.ipynb",
   "provenance": [],
   "version": "0.3.2"
  },
  "kernelspec": {
   "display_name": "Python 3 (ipykernel)",
   "language": "python",
   "name": "python3"
  },
  "language_info": {
   "codemirror_mode": {
    "name": "ipython",
    "version": 3
   },
   "file_extension": ".py",
   "mimetype": "text/x-python",
   "name": "python",
   "nbconvert_exporter": "python",
   "pygments_lexer": "ipython3",
   "version": "3.11.4"
  }
 },
 "nbformat": 4,
 "nbformat_minor": 1
}
